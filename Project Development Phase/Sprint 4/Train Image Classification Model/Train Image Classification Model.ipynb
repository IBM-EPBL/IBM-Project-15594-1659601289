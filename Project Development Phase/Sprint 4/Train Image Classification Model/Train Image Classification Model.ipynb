{
 "cells": [
  {
   "cell_type": "markdown",
   "metadata": {
    "id": "i6bGC4KjcTCk"
   },
   "source": [
    "#Image Preprocessing"
   ]
  },
  {
   "cell_type": "code",
   "execution_count": 12,
   "metadata": {},
   "outputs": [
    {
     "name": "stdout",
     "output_type": "stream",
     "text": [
      "Requirement already satisfied: watson-machine-learning-client in c:\\users\\kamal\\miniconda4\\lib\\site-packages (1.0.391)\n",
      "Requirement already satisfied: lomond in c:\\users\\kamal\\miniconda4\\lib\\site-packages (from watson-machine-learning-client) (0.3.3)\n",
      "Requirement already satisfied: certifi in c:\\users\\kamal\\miniconda4\\lib\\site-packages (from watson-machine-learning-client) (2022.9.24)\n",
      "Requirement already satisfied: urllib3 in c:\\users\\kamal\\miniconda4\\lib\\site-packages (from watson-machine-learning-client) (1.26.8)\n",
      "Requirement already satisfied: tqdm in c:\\users\\kamal\\miniconda4\\lib\\site-packages (from watson-machine-learning-client) (4.63.0)\n",
      "Requirement already satisfied: ibm-cos-sdk in c:\\users\\kamal\\miniconda4\\lib\\site-packages (from watson-machine-learning-client) (2.11.0)\n",
      "Requirement already satisfied: requests in c:\\users\\kamal\\miniconda4\\lib\\site-packages (from watson-machine-learning-client) (2.27.1)\n",
      "Requirement already satisfied: tabulate in c:\\users\\kamal\\miniconda4\\lib\\site-packages (from watson-machine-learning-client) (0.9.0)\n",
      "Requirement already satisfied: boto3 in c:\\users\\kamal\\miniconda4\\lib\\site-packages (from watson-machine-learning-client) (1.26.8)\n",
      "Requirement already satisfied: pandas in c:\\users\\kamal\\miniconda4\\lib\\site-packages (from watson-machine-learning-client) (1.4.4)\n",
      "Requirement already satisfied: s3transfer<0.7.0,>=0.6.0 in c:\\users\\kamal\\miniconda4\\lib\\site-packages (from boto3->watson-machine-learning-client) (0.6.0)\n",
      "Requirement already satisfied: botocore<1.30.0,>=1.29.8 in c:\\users\\kamal\\miniconda4\\lib\\site-packages (from boto3->watson-machine-learning-client) (1.29.8)\n",
      "Requirement already satisfied: jmespath<2.0.0,>=0.7.1 in c:\\users\\kamal\\miniconda4\\lib\\site-packages (from boto3->watson-machine-learning-client) (0.10.0)\n",
      "Requirement already satisfied: ibm-cos-sdk-s3transfer==2.11.0 in c:\\users\\kamal\\miniconda4\\lib\\site-packages (from ibm-cos-sdk->watson-machine-learning-client) (2.11.0)\n",
      "Requirement already satisfied: ibm-cos-sdk-core==2.11.0 in c:\\users\\kamal\\miniconda4\\lib\\site-packages (from ibm-cos-sdk->watson-machine-learning-client) (2.11.0)\n",
      "Requirement already satisfied: python-dateutil<3.0.0,>=2.1 in c:\\users\\kamal\\miniconda4\\lib\\site-packages (from ibm-cos-sdk-core==2.11.0->ibm-cos-sdk->watson-machine-learning-client) (2.8.2)\n",
      "Requirement already satisfied: idna<4,>=2.5 in c:\\users\\kamal\\miniconda4\\lib\\site-packages (from requests->watson-machine-learning-client) (3.3)\n",
      "Requirement already satisfied: charset-normalizer~=2.0.0 in c:\\users\\kamal\\miniconda4\\lib\\site-packages (from requests->watson-machine-learning-client) (2.0.4)\n",
      "Requirement already satisfied: six>=1.10.0 in c:\\users\\kamal\\miniconda4\\lib\\site-packages (from lomond->watson-machine-learning-client) (1.16.0)\n",
      "Requirement already satisfied: numpy>=1.18.5 in c:\\users\\kamal\\miniconda4\\lib\\site-packages (from pandas->watson-machine-learning-client) (1.23.4)\n",
      "Requirement already satisfied: pytz>=2020.1 in c:\\users\\kamal\\miniconda4\\lib\\site-packages (from pandas->watson-machine-learning-client) (2022.6)\n",
      "Requirement already satisfied: colorama in c:\\users\\kamal\\miniconda4\\lib\\site-packages (from tqdm->watson-machine-learning-client) (0.4.4)\n"
     ]
    }
   ],
   "source": [
    "!pip install watson-machine-learning-client"
   ]
  },
  {
   "cell_type": "code",
   "execution_count": 13,
   "metadata": {},
   "outputs": [],
   "source": [
    "from ibm_watson_machine_learning import APIClient\n",
    "wml_credentials = {\n",
    "    \"url\" : \"https://us-south.ml.cloud.ibm.com\",\n",
    "    \"apikey\" : \"4K5Qo9nCXKGDes73rlgGVGMsTCaEXaINd8FWziAiYHf_\"\n",
    "}\n",
    "client = APIClient(wml_credentials)"
   ]
  },
  {
   "cell_type": "code",
   "execution_count": 14,
   "metadata": {},
   "outputs": [],
   "source": [
    "def guid_space_name(client, ai_based_real_time_communication_deploy_space):\n",
    "    space = client.spaces.get_details()\n",
    "    return(next(item for item in space['resources'] if item['entity']['name'] == ai_based_real_time_communication_deploy_space)['metadata']['id'])"
   ]
  },
  {
   "cell_type": "code",
   "execution_count": 5,
   "metadata": {},
   "outputs": [
    {
     "data": {
      "text/plain": [
       "{'resources': [{'entity': {'description': '',\n",
       "    'name': 'imageclassification',\n",
       "    'scope': {'bss_account_id': 'b1fd66c9342e40e18cd868ebc899f045'},\n",
       "    'stage': {'production': False},\n",
       "    'status': {'state': 'active'},\n",
       "    'storage': {'properties': {'bucket_name': 'd032cf9e-bf0c-47bd-b573-0fa4f13976a9',\n",
       "      'bucket_region': 'us-south',\n",
       "      'credentials': {'admin': {'access_key_id': '9a6490f9f27b42b0b35949afd235b565',\n",
       "        'api_key': 'o2ZFO4bKCF_ZMkku1tgpiCPWOzNG3Fh1o3ziXPvaq0v1',\n",
       "        'secret_access_key': '4311fd0cc79863a20cac6e748ce55ea7110c010fe265c5c8',\n",
       "        'service_id': 'ServiceId-1243d1a6-3478-4301-8612-cfc37c773e3e'},\n",
       "       'editor': {'access_key_id': 'bc31dc1898964d25acab41ffdfe61c7b',\n",
       "        'api_key': '7noezH3x6OsJ635QywKcr2zxX69DCsDXe9WF1SvA2LcK',\n",
       "        'resource_key_crn': 'crn:v1:bluemix:public:cloud-object-storage:global:a/b1fd66c9342e40e18cd868ebc899f045:58aadd6e-354d-4128-92dd-88336e29c8fa::',\n",
       "        'secret_access_key': '5fcde3dbda2aec00df179213f18040b19a24467b4d11d4e8',\n",
       "        'service_id': 'ServiceId-933e11be-6ebd-4159-b092-01454c757941'},\n",
       "       'viewer': {'access_key_id': 'df00887b4b5441e3b1e088054477f9ff',\n",
       "        'api_key': 'wYg9YsXNl_FX8XuArgxYbz0nPVZ5r3KbdouAG_FHc4WZ',\n",
       "        'resource_key_crn': 'crn:v1:bluemix:public:cloud-object-storage:global:a/b1fd66c9342e40e18cd868ebc899f045:58aadd6e-354d-4128-92dd-88336e29c8fa::',\n",
       "        'secret_access_key': 'fc018ee5732cf4adbbfd0d5cafebf796af0b0dbb3abacfcb',\n",
       "        'service_id': 'ServiceId-a910ba82-665f-4c14-9e0b-8ed34196edac'}},\n",
       "      'endpoint_url': 'https://s3.us-south.cloud-object-storage.appdomain.cloud',\n",
       "      'guid': '58aadd6e-354d-4128-92dd-88336e29c8fa',\n",
       "      'resource_crn': 'crn:v1:bluemix:public:cloud-object-storage:global:a/b1fd66c9342e40e18cd868ebc899f045:58aadd6e-354d-4128-92dd-88336e29c8fa::'},\n",
       "     'type': 'bmcos_object_storage'}},\n",
       "   'metadata': {'created_at': '2022-11-14T14:05:12.125Z',\n",
       "    'creator_id': 'IBMid-66100447G5',\n",
       "    'id': '6a8a9254-afb7-498e-9c5f-63f74b13a680',\n",
       "    'updated_at': '2022-11-14T14:05:29.343Z',\n",
       "    'url': '/v2/spaces/6a8a9254-afb7-498e-9c5f-63f74b13a680'}}]}"
      ]
     },
     "execution_count": 5,
     "metadata": {},
     "output_type": "execute_result"
    }
   ],
   "source": [
    "client.spaces.get_details()"
   ]
  },
  {
   "cell_type": "code",
   "execution_count": 23,
   "metadata": {},
   "outputs": [
    {
     "data": {
      "text/plain": [
       "'6a8a9254-afb7-498e-9c5f-63f74b13a680'"
      ]
     },
     "execution_count": 23,
     "metadata": {},
     "output_type": "execute_result"
    }
   ],
   "source": [
    "space_id = guid_space_name(client, 'imageclassification')\n",
    "space_id"
   ]
  },
  {
   "cell_type": "code",
   "execution_count": 21,
   "metadata": {},
   "outputs": [
    {
     "data": {
      "text/plain": [
       "'SUCCESS'"
      ]
     },
     "execution_count": 21,
     "metadata": {},
     "output_type": "execute_result"
    }
   ],
   "source": [
    "client.set.default_space(space_id)"
   ]
  },
  {
   "cell_type": "code",
   "execution_count": 22,
   "metadata": {},
   "outputs": [
    {
     "name": "stderr",
     "output_type": "stream",
     "text": [
      "Unexpected type of artifact to download or Artifact with artifact_uid: '6a8a9254-afb7-498e-9c5f-63f74b13a680' does not exist.\n"
     ]
    },
    {
     "ename": "WMLClientError",
     "evalue": "Unexpected type of artifact to download or Artifact with artifact_uid: '6a8a9254-afb7-498e-9c5f-63f74b13a680' does not exist.",
     "output_type": "error",
     "traceback": [
      "\u001b[1;31m---------------------------------------------------------------------------\u001b[0m",
      "\u001b[1;31mWMLClientError\u001b[0m                            Traceback (most recent call last)",
      "Cell \u001b[1;32mIn [22], line 1\u001b[0m\n\u001b[1;32m----> 1\u001b[0m \u001b[43mclient\u001b[49m\u001b[38;5;241;43m.\u001b[39;49m\u001b[43mrepository\u001b[49m\u001b[38;5;241;43m.\u001b[39;49m\u001b[43mdownload\u001b[49m\u001b[43m(\u001b[49m\u001b[38;5;124;43m\"\u001b[39;49m\u001b[38;5;124;43m6a8a9254-afb7-498e-9c5f-63f74b13a680\u001b[39;49m\u001b[38;5;124;43m\"\u001b[39;49m\u001b[43m,\u001b[49m\u001b[43m \u001b[49m\u001b[38;5;124;43m'\u001b[39;49m\u001b[38;5;124;43mimage-classification-model.h5\u001b[39;49m\u001b[38;5;124;43m'\u001b[39;49m\u001b[43m)\u001b[49m\n",
      "File \u001b[1;32m~\\miniconda4\\lib\\site-packages\\ibm_watson_machine_learning\\repository.py:913\u001b[0m, in \u001b[0;36mRepository.download\u001b[1;34m(self, artifact_uid, filename, rev_uid, format)\u001b[0m\n\u001b[0;32m    911\u001b[0m     \u001b[38;5;28;01mreturn\u001b[39;00m \u001b[38;5;28mself\u001b[39m\u001b[38;5;241m.\u001b[39m_client\u001b[38;5;241m.\u001b[39mruntimes\u001b[38;5;241m.\u001b[39mdownload_configuration(artifact_uid, filename)\n\u001b[0;32m    912\u001b[0m \u001b[38;5;28;01melse\u001b[39;00m:\n\u001b[1;32m--> 913\u001b[0m     \u001b[38;5;28;01mraise\u001b[39;00m WMLClientError(\u001b[38;5;124m'\u001b[39m\u001b[38;5;124mUnexpected type of artifact to download or Artifact with artifact_uid: \u001b[39m\u001b[38;5;130;01m\\'\u001b[39;00m\u001b[38;5;132;01m{}\u001b[39;00m\u001b[38;5;130;01m\\'\u001b[39;00m\u001b[38;5;124m does not exist.\u001b[39m\u001b[38;5;124m'\u001b[39m\u001b[38;5;241m.\u001b[39mformat(artifact_uid) )\n",
      "\u001b[1;31mWMLClientError\u001b[0m: Unexpected type of artifact to download or Artifact with artifact_uid: '6a8a9254-afb7-498e-9c5f-63f74b13a680' does not exist."
     ]
    }
   ],
   "source": [
    "client.repository.download(\"6a8a9254-afb7-498e-9c5f-63f74b13a680\", 'image-classification-model.h5')"
   ]
  },
  {
   "cell_type": "code",
   "execution_count": null,
   "metadata": {},
   "outputs": [],
   "source": []
  }
 ],
 "metadata": {
  "colab": {
   "provenance": []
  },
  "kernelspec": {
   "display_name": "Python 3 (ipykernel)",
   "language": "python",
   "name": "python3"
  },
  "language_info": {
   "codemirror_mode": {
    "name": "ipython",
    "version": 3
   },
   "file_extension": ".py",
   "mimetype": "text/x-python",
   "name": "python",
   "nbconvert_exporter": "python",
   "pygments_lexer": "ipython3",
   "version": "3.9.12"
  }
 },
 "nbformat": 4,
 "nbformat_minor": 1
}
